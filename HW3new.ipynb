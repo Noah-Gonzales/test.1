{
 "cells": [
  {
   "cell_type": "markdown",
   "id": "political-semester",
   "metadata": {},
   "source": [
    "# Assignment"
   ]
  },
  {
   "cell_type": "markdown",
   "id": "dense-charger",
   "metadata": {},
   "source": [
    "# Trading Places\n",
    "1. Read in data using Dask __(1 point)__\n",
    "2. Descriptive Statistics: __(2 points)__\n",
    "    \n",
    "    a. In the year 2012, who were the top 10 countries with the most trading partners? What about the bottom 10?\n",
    "    \n",
    "    b. Using the designation [here]( https://www.foreign-trade.com/reference/hscode.htm), describe the trade volume of the whole dataset in terms of value and list the five highest value sectors in the entire sample period.\n",
    "\n",
    "3. Country statistics: __(3 points)__\n",
    "\n",
    "    a. Calculate the top 10 exports (in terms of value) of our chosen country in 2012.\n",
    "\n",
    "    b. Calculate the top 10 goods with the highest trade volume for both exports and imports in terms of:\n",
    "    \n",
    "        i. Value\n",
    "    \n",
    "        ii. Quantity\n",
    "\n",
    "3. The Gravity Equation Relationship __(4 points)__\n",
    "\n",
    "    a. Using the country shapefile, calculate the distance in kilometers between the centroid of our chosen country and all the other centroids. You may use either haversine distance with the geographic CRS or use a projected CRS and use the `distance` function of `geopandas`.\n",
    "    \n",
    "    b. Using the country we chose in class, create a scatterplot of distance and export volume (quantity and value) in logarithm form.\n",
    "    \n",
    "    c. Calculate the correlations between exports and distance for both value and quantity. Interpret the correlations for each of these factors.\n",
    "    \n",
    "    d. Using the designation you created in 2.d., for which sectors are exports (quantity) most strongly related to distance for this country?\n",
    "    \n",
    "4. Estimation __(6 points)__\n",
    "    \n",
    "    a. Create a function called \"SSE_1p\" that does the following given a scalar input $\\beta$:\n",
    "        1. Subtracts the logarithm of quantity exports from the logarithm of distance times $\\beta$.\n",
    "$$ e = log(E_{ij}) - \\beta log(d_{ij}) $$\n",
    "        2. Squares the error.\n",
    "        3. Returns the sum of the squared error. \n",
    "    b. Plot the function from -1 to +3 with steps of .005, and then find the minimum of the function with the numpy function \"argmin.\" Is it what you expected?\n",
    "    \n",
    "    c. Create another function called \"SSE_2p\" does the same as \"SSE_1p\" but instead takes a __vector__ as an argument:\n",
    " $$ e = log(E_{ij}) - \\beta[0] - \\beta[1] log(d_{ij})$$\n",
    " \n",
    "     d. Do a grid search with the first parameter range as 1500 to 2500 in steps of 10, and the second parameter range as -1 to +3 in steps of .005 as before. Do it using either `dask` or `multiprocessing`. Comment on how or why the parameter on $log(d_{ij})$ is different than what you found in part 4b.\n",
    "     \n",
    "     e. Now check your results using the \"econtools\" package \"reg\" function by running OLS with a constant term.\n",
    "     \n",
    "     f. Finally, merge in the GDP numbers from the World Bank and do the regression again, except this time the log of each country's GDP as covariates. How did the coefficient on distance change?\n",
    "     \n",
    "5. An analyst asks you \"for which commodity sectors is distance most important in terms of exporting?\" Describe what your economic intuition would say about the answer, and then also map out an analysis strategy for answering their question. As usual, describe: __(4 points)__\n",
    "    - What data you would need.\n",
    "    - How you would manipulate the data.\n",
    "    - What analysis you would run."
   ]
  },
  {
   "cell_type": "code",
   "execution_count": 3,
   "id": "chicken-reminder",
   "metadata": {},
   "outputs": [],
   "source": [
    "import glob\n",
    "import pandas as pd\n",
    "import numpy as np\n",
    "import dask.dataframe as dd\n",
    "import matplotlib.pyplot as plt\n",
    "import json\n",
    "import dask\n",
    "import geopandas as gp\n",
    "import matplotlib.pyplot as plt\n",
    "from math import radians, cos, sin, asin, sqrt\n",
    "\n",
    "\n",
    "def haversine(row):\n",
    "    \"\"\"\n",
    "    Calculate the great circle distance between two points \n",
    "    on the earth (specified in decimal degrees)\n",
    "    \"\"\"\n",
    "    lon1, lat1, lon2, lat2 = row\n",
    "    # convert decimal degrees to radians \n",
    "    lon1, lat1, lon2, lat2 = map(radians, [lon1, lat1, lon2, lat2])\n",
    "\n",
    "    # haversine formula \n",
    "    dlon = lon2 - lon1 \n",
    "    dlat = lat2 - lat1 \n",
    "    a = sin(dlat/2)**2 + cos(lat1) * cos(lat2) * sin(dlon/2)**2\n",
    "    c = 2 * asin(sqrt(a)) \n",
    "    r = 6371 # Radius of earth in kilometers. Use 3956 for miles\n",
    "    return c * r"
   ]
  },
  {
   "cell_type": "markdown",
   "id": "inclusive-casino",
   "metadata": {},
   "source": [
    "# Question 1"
   ]
  },
  {
   "cell_type": "code",
   "execution_count": 1,
   "id": "framed-plain",
   "metadata": {},
   "outputs": [
    {
     "data": {
      "text/html": [
       "<table style=\"border: 2px solid white;\">\n",
       "<tr>\n",
       "<td style=\"vertical-align: top; border: 0px solid white\">\n",
       "<h3 style=\"text-align: left;\">Client</h3>\n",
       "<ul style=\"text-align: left; list-style: none; margin: 0; padding: 0;\">\n",
       "  <li><b>Scheduler: </b>tcp://127.0.0.1:56592</li>\n",
       "  <li><b>Dashboard: </b><a href='http://127.0.0.1:8787/status' target='_blank'>http://127.0.0.1:8787/status</a></li>\n",
       "</ul>\n",
       "</td>\n",
       "<td style=\"vertical-align: top; border: 0px solid white\">\n",
       "<h3 style=\"text-align: left;\">Cluster</h3>\n",
       "<ul style=\"text-align: left; list-style:none; margin: 0; padding: 0;\">\n",
       "  <li><b>Workers: </b>4</li>\n",
       "  <li><b>Cores: </b>8</li>\n",
       "  <li><b>Memory: </b>12.00 GB</li>\n",
       "</ul>\n",
       "</td>\n",
       "</tr>\n",
       "</table>"
      ],
      "text/plain": [
       "<Client: 'tcp://127.0.0.1:56592' processes=4 threads=8, memory=12.00 GB>"
      ]
     },
     "execution_count": 1,
     "metadata": {},
     "output_type": "execute_result"
    }
   ],
   "source": [
    "from dask.distributed import Client, progress\n",
    "client = Client(n_workers=4, threads_per_worker=2, memory_limit='3GB')\n",
    "client"
   ]
  },
  {
   "cell_type": "code",
   "execution_count": 20,
   "id": "valuable-oregon",
   "metadata": {},
   "outputs": [],
   "source": [
    "df = dd.read_csv('/Users/carri/ACE_592/Homework_3/BACI*.csv')"
   ]
  },
  {
   "cell_type": "code",
   "execution_count": 4,
   "id": "typical-startup",
   "metadata": {},
   "outputs": [
    {
     "data": {
      "text/html": [
       "<div>\n",
       "<style scoped>\n",
       "    .dataframe tbody tr th:only-of-type {\n",
       "        vertical-align: middle;\n",
       "    }\n",
       "\n",
       "    .dataframe tbody tr th {\n",
       "        vertical-align: top;\n",
       "    }\n",
       "\n",
       "    .dataframe thead th {\n",
       "        text-align: right;\n",
       "    }\n",
       "</style>\n",
       "<table border=\"1\" class=\"dataframe\">\n",
       "  <thead>\n",
       "    <tr style=\"text-align: right;\">\n",
       "      <th></th>\n",
       "      <th>t</th>\n",
       "      <th>i</th>\n",
       "      <th>j</th>\n",
       "      <th>k</th>\n",
       "      <th>v</th>\n",
       "      <th>q</th>\n",
       "    </tr>\n",
       "  </thead>\n",
       "  <tbody>\n",
       "    <tr>\n",
       "      <th>0</th>\n",
       "      <td>2012</td>\n",
       "      <td>4</td>\n",
       "      <td>8</td>\n",
       "      <td>610469</td>\n",
       "      <td>2.734000</td>\n",
       "      <td>0.044</td>\n",
       "    </tr>\n",
       "    <tr>\n",
       "      <th>1</th>\n",
       "      <td>2012</td>\n",
       "      <td>4</td>\n",
       "      <td>12</td>\n",
       "      <td>91099</td>\n",
       "      <td>1.185000</td>\n",
       "      <td>1.200</td>\n",
       "    </tr>\n",
       "    <tr>\n",
       "      <th>2</th>\n",
       "      <td>2012</td>\n",
       "      <td>4</td>\n",
       "      <td>32</td>\n",
       "      <td>392630</td>\n",
       "      <td>1.274453</td>\n",
       "      <td>0.123</td>\n",
       "    </tr>\n",
       "    <tr>\n",
       "      <th>3</th>\n",
       "      <td>2012</td>\n",
       "      <td>4</td>\n",
       "      <td>32</td>\n",
       "      <td>730729</td>\n",
       "      <td>2.018000</td>\n",
       "      <td>0.100</td>\n",
       "    </tr>\n",
       "    <tr>\n",
       "      <th>4</th>\n",
       "      <td>2012</td>\n",
       "      <td>4</td>\n",
       "      <td>32</td>\n",
       "      <td>853400</td>\n",
       "      <td>5.530000</td>\n",
       "      <td>0.028</td>\n",
       "    </tr>\n",
       "  </tbody>\n",
       "</table>\n",
       "</div>"
      ],
      "text/plain": [
       "      t  i   j       k         v      q\n",
       "0  2012  4   8  610469  2.734000  0.044\n",
       "1  2012  4  12   91099  1.185000  1.200\n",
       "2  2012  4  32  392630  1.274453  0.123\n",
       "3  2012  4  32  730729  2.018000  0.100\n",
       "4  2012  4  32  853400  5.530000  0.028"
      ]
     },
     "execution_count": 4,
     "metadata": {},
     "output_type": "execute_result"
    }
   ],
   "source": [
    "df.head(5)"
   ]
  },
  {
   "cell_type": "markdown",
   "id": "indirect-yeast",
   "metadata": {},
   "source": [
    "# Question 2"
   ]
  },
  {
   "cell_type": "code",
   "execution_count": 5,
   "id": "positive-binding",
   "metadata": {},
   "outputs": [
    {
     "data": {
      "text/html": [
       "<div>\n",
       "<style scoped>\n",
       "    .dataframe tbody tr th:only-of-type {\n",
       "        vertical-align: middle;\n",
       "    }\n",
       "\n",
       "    .dataframe tbody tr th {\n",
       "        vertical-align: top;\n",
       "    }\n",
       "\n",
       "    .dataframe thead th {\n",
       "        text-align: right;\n",
       "    }\n",
       "</style>\n",
       "<table border=\"1\" class=\"dataframe\">\n",
       "  <thead>\n",
       "    <tr style=\"text-align: right;\">\n",
       "      <th></th>\n",
       "      <th>t</th>\n",
       "      <th>i</th>\n",
       "      <th>j</th>\n",
       "      <th>k</th>\n",
       "      <th>v</th>\n",
       "      <th>q</th>\n",
       "    </tr>\n",
       "  </thead>\n",
       "  <tbody>\n",
       "    <tr>\n",
       "      <th>0</th>\n",
       "      <td>2012</td>\n",
       "      <td>554</td>\n",
       "      <td>36</td>\n",
       "      <td>621520</td>\n",
       "      <td>264.118684</td>\n",
       "      <td>1.524000</td>\n",
       "    </tr>\n",
       "    <tr>\n",
       "      <th>1</th>\n",
       "      <td>2012</td>\n",
       "      <td>554</td>\n",
       "      <td>36</td>\n",
       "      <td>621590</td>\n",
       "      <td>13.982460</td>\n",
       "      <td>0.066000</td>\n",
       "    </tr>\n",
       "    <tr>\n",
       "      <th>2</th>\n",
       "      <td>2012</td>\n",
       "      <td>554</td>\n",
       "      <td>36</td>\n",
       "      <td>621600</td>\n",
       "      <td>64.804601</td>\n",
       "      <td>1.879000</td>\n",
       "    </tr>\n",
       "    <tr>\n",
       "      <th>3</th>\n",
       "      <td>2012</td>\n",
       "      <td>554</td>\n",
       "      <td>36</td>\n",
       "      <td>621710</td>\n",
       "      <td>335.961330</td>\n",
       "      <td>10.766000</td>\n",
       "    </tr>\n",
       "    <tr>\n",
       "      <th>4</th>\n",
       "      <td>2012</td>\n",
       "      <td>554</td>\n",
       "      <td>36</td>\n",
       "      <td>621790</td>\n",
       "      <td>5.680674</td>\n",
       "      <td>0.098000</td>\n",
       "    </tr>\n",
       "    <tr>\n",
       "      <th>...</th>\n",
       "      <td>...</td>\n",
       "      <td>...</td>\n",
       "      <td>...</td>\n",
       "      <td>...</td>\n",
       "      <td>...</td>\n",
       "      <td>...</td>\n",
       "    </tr>\n",
       "    <tr>\n",
       "      <th>1419131</th>\n",
       "      <td>2012</td>\n",
       "      <td>752</td>\n",
       "      <td>381</td>\n",
       "      <td>691200</td>\n",
       "      <td>73.248859</td>\n",
       "      <td>8.535434</td>\n",
       "    </tr>\n",
       "    <tr>\n",
       "      <th>1419132</th>\n",
       "      <td>2012</td>\n",
       "      <td>752</td>\n",
       "      <td>381</td>\n",
       "      <td>691310</td>\n",
       "      <td>13.051901</td>\n",
       "      <td>0.096012</td>\n",
       "    </tr>\n",
       "    <tr>\n",
       "      <th>1419133</th>\n",
       "      <td>2012</td>\n",
       "      <td>752</td>\n",
       "      <td>381</td>\n",
       "      <td>691390</td>\n",
       "      <td>11.130867</td>\n",
       "      <td>1.116331</td>\n",
       "    </tr>\n",
       "    <tr>\n",
       "      <th>1419134</th>\n",
       "      <td>2012</td>\n",
       "      <td>752</td>\n",
       "      <td>381</td>\n",
       "      <td>691490</td>\n",
       "      <td>12.151856</td>\n",
       "      <td>0.719000</td>\n",
       "    </tr>\n",
       "    <tr>\n",
       "      <th>1419135</th>\n",
       "      <td>2012</td>\n",
       "      <td>752</td>\n",
       "      <td>381</td>\n",
       "      <td>700100</td>\n",
       "      <td>635.834476</td>\n",
       "      <td>7235.934237</td>\n",
       "    </tr>\n",
       "  </tbody>\n",
       "</table>\n",
       "<p>1419136 rows × 6 columns</p>\n",
       "</div>"
      ],
      "text/plain": [
       "            t    i    j       k           v            q\n",
       "0        2012  554   36  621520  264.118684     1.524000\n",
       "1        2012  554   36  621590   13.982460     0.066000\n",
       "2        2012  554   36  621600   64.804601     1.879000\n",
       "3        2012  554   36  621710  335.961330    10.766000\n",
       "4        2012  554   36  621790    5.680674     0.098000\n",
       "...       ...  ...  ...     ...         ...          ...\n",
       "1419131  2012  752  381  691200   73.248859     8.535434\n",
       "1419132  2012  752  381  691310   13.051901     0.096012\n",
       "1419133  2012  752  381  691390   11.130867     1.116331\n",
       "1419134  2012  752  381  691490   12.151856     0.719000\n",
       "1419135  2012  752  381  700100  635.834476  7235.934237\n",
       "\n",
       "[1419136 rows x 6 columns]"
      ]
     },
     "execution_count": 5,
     "metadata": {},
     "output_type": "execute_result"
    }
   ],
   "source": [
    "df.partitions[3].compute()"
   ]
  },
  {
   "cell_type": "code",
   "execution_count": 21,
   "id": "nutritional-aviation",
   "metadata": {},
   "outputs": [],
   "source": [
    "df=df.set_index('t',sorted=True)"
   ]
  },
  {
   "cell_type": "code",
   "execution_count": 7,
   "id": "roman-terry",
   "metadata": {},
   "outputs": [
    {
     "data": {
      "text/plain": [
       "True"
      ]
     },
     "execution_count": 7,
     "metadata": {},
     "output_type": "execute_result"
    }
   ],
   "source": [
    "df.known_divisions"
   ]
  },
  {
   "cell_type": "markdown",
   "id": "ongoing-trade",
   "metadata": {},
   "source": [
    "### Part A) Top and bottom ten countries by number of trade partners in 2012"
   ]
  },
  {
   "cell_type": "code",
   "execution_count": 22,
   "id": "industrial-saudi",
   "metadata": {},
   "outputs": [],
   "source": [
    "df12=df.loc[2012]"
   ]
  },
  {
   "cell_type": "code",
   "execution_count": 23,
   "id": "smooth-disease",
   "metadata": {},
   "outputs": [
    {
     "data": {
      "text/html": [
       "<div>\n",
       "<style scoped>\n",
       "    .dataframe tbody tr th:only-of-type {\n",
       "        vertical-align: middle;\n",
       "    }\n",
       "\n",
       "    .dataframe tbody tr th {\n",
       "        vertical-align: top;\n",
       "    }\n",
       "\n",
       "    .dataframe thead th {\n",
       "        text-align: right;\n",
       "    }\n",
       "</style>\n",
       "<table border=\"1\" class=\"dataframe\">\n",
       "  <thead>\n",
       "    <tr style=\"text-align: right;\">\n",
       "      <th></th>\n",
       "      <th>i</th>\n",
       "      <th>j</th>\n",
       "      <th>k</th>\n",
       "      <th>v</th>\n",
       "      <th>q</th>\n",
       "    </tr>\n",
       "    <tr>\n",
       "      <th>t</th>\n",
       "      <th></th>\n",
       "      <th></th>\n",
       "      <th></th>\n",
       "      <th></th>\n",
       "      <th></th>\n",
       "    </tr>\n",
       "  </thead>\n",
       "  <tbody>\n",
       "    <tr>\n",
       "      <th>2012</th>\n",
       "      <td>554</td>\n",
       "      <td>36</td>\n",
       "      <td>621520</td>\n",
       "      <td>264.118684</td>\n",
       "      <td>1.524</td>\n",
       "    </tr>\n",
       "    <tr>\n",
       "      <th>2012</th>\n",
       "      <td>554</td>\n",
       "      <td>36</td>\n",
       "      <td>621590</td>\n",
       "      <td>13.982460</td>\n",
       "      <td>0.066</td>\n",
       "    </tr>\n",
       "    <tr>\n",
       "      <th>2012</th>\n",
       "      <td>554</td>\n",
       "      <td>36</td>\n",
       "      <td>621600</td>\n",
       "      <td>64.804601</td>\n",
       "      <td>1.879</td>\n",
       "    </tr>\n",
       "    <tr>\n",
       "      <th>2012</th>\n",
       "      <td>554</td>\n",
       "      <td>36</td>\n",
       "      <td>621710</td>\n",
       "      <td>335.961330</td>\n",
       "      <td>10.766</td>\n",
       "    </tr>\n",
       "    <tr>\n",
       "      <th>2012</th>\n",
       "      <td>554</td>\n",
       "      <td>36</td>\n",
       "      <td>621790</td>\n",
       "      <td>5.680674</td>\n",
       "      <td>0.098</td>\n",
       "    </tr>\n",
       "  </tbody>\n",
       "</table>\n",
       "</div>"
      ],
      "text/plain": [
       "        i   j       k           v       q\n",
       "t                                        \n",
       "2012  554  36  621520  264.118684   1.524\n",
       "2012  554  36  621590   13.982460   0.066\n",
       "2012  554  36  621600   64.804601   1.879\n",
       "2012  554  36  621710  335.961330  10.766\n",
       "2012  554  36  621790    5.680674   0.098"
      ]
     },
     "execution_count": 23,
     "metadata": {},
     "output_type": "execute_result"
    }
   ],
   "source": [
    "df12.head(5)"
   ]
  },
  {
   "cell_type": "code",
   "execution_count": 24,
   "id": "american-coast",
   "metadata": {},
   "outputs": [
    {
     "data": {
      "text/plain": [
       "i\n",
       "842    326867\n",
       "826    263243\n",
       "724    220258\n",
       "792    176323\n",
       "757    142958\n",
       "616    130448\n",
       "752    128977\n",
       "764    126442\n",
       "699    122070\n",
       "784    115991\n",
       "Name: i, dtype: int64"
      ]
     },
     "execution_count": 24,
     "metadata": {},
     "output_type": "execute_result"
    }
   ],
   "source": [
    "top_importers = df12.groupby('i').i.count().nlargest(10).compute()\n",
    "top_importers"
   ]
  },
  {
   "cell_type": "code",
   "execution_count": 25,
   "id": "conceptual-trainer",
   "metadata": {},
   "outputs": [
    {
     "data": {
      "text/plain": [
       "i\n",
       "728     27\n",
       "876     43\n",
       "574     44\n",
       "612     54\n",
       "585     71\n",
       "624     73\n",
       "580     76\n",
       "798    100\n",
       "583    103\n",
       "570    122\n",
       "Name: i, dtype: int64"
      ]
     },
     "execution_count": 25,
     "metadata": {},
     "output_type": "execute_result"
    }
   ],
   "source": [
    "bottom_importers = df12.groupby('i').i.count().nsmallest(10).compute()\n",
    "bottom_importers"
   ]
  },
  {
   "cell_type": "code",
   "execution_count": 26,
   "id": "reported-circumstances",
   "metadata": {},
   "outputs": [
    {
     "data": {
      "text/plain": [
       "j\n",
       "276    65065\n",
       "251    57253\n",
       "842    54406\n",
       "381    54034\n",
       "826    50126\n",
       "528    45953\n",
       "784    45077\n",
       "156    44609\n",
       "58     42266\n",
       "36     39676\n",
       "Name: i, dtype: int64"
      ]
     },
     "execution_count": 26,
     "metadata": {},
     "output_type": "execute_result"
    }
   ],
   "source": [
    "top_exporters = df12.groupby('j').i.count().nlargest(10).compute()\n",
    "top_exporters"
   ]
  },
  {
   "cell_type": "code",
   "execution_count": 27,
   "id": "identified-adolescent",
   "metadata": {},
   "outputs": [
    {
     "data": {
      "text/plain": [
       "j\n",
       "166     16\n",
       "666     30\n",
       "535     36\n",
       "612     45\n",
       "520     73\n",
       "162     75\n",
       "260    102\n",
       "86     123\n",
       "16     126\n",
       "798    160\n",
       "Name: i, dtype: int64"
      ]
     },
     "execution_count": 27,
     "metadata": {},
     "output_type": "execute_result"
    }
   ],
   "source": [
    "bottom_exporters = df12.groupby('j').i.count().nsmallest(10).compute()\n",
    "bottom_exporters"
   ]
  },
  {
   "cell_type": "markdown",
   "id": "statewide-federation",
   "metadata": {},
   "source": [
    "### Part b) Trade volume values and five  highes value sectors"
   ]
  },
  {
   "cell_type": "code",
   "execution_count": 4,
   "id": "arabic-titanium",
   "metadata": {},
   "outputs": [],
   "source": [
    "df = dd.read_csv('/Users/carri/ACE_592/Homework_3/BACI*.csv')"
   ]
  },
  {
   "cell_type": "code",
   "execution_count": 9,
   "id": "comprehensive-stereo",
   "metadata": {
    "collapsed": true
   },
   "outputs": [
    {
     "data": {
      "text/plain": [
       "<AxesSubplot:>"
      ]
     },
     "execution_count": 9,
     "metadata": {},
     "output_type": "execute_result"
    },
    {
     "data": {
      "image/png": "[encoded data removed]",
      "text/plain": [
       "<Figure size 432x288 with 1 Axes>"
      ]
     },
     "metadata": {
      "needs_background": "light"
     },
     "output_type": "display_data"
    }
   ],
   "source": [
    "df.map_partitions(len).compute().plot(kind='bar')"
   ]
  },
  {
   "cell_type": "code",
   "execution_count": 10,
   "id": "acknowledged-issue",
   "metadata": {
    "collapsed": true
   },
   "outputs": [
    {
     "data": {
      "text/plain": [
       "<AxesSubplot:>"
      ]
     },
     "execution_count": 10,
     "metadata": {},
     "output_type": "execute_result"
    },
    {
     "data": {
      "image/png": "[encoded data removed]",
      "text/plain": [
       "<Figure size 432x288 with 1 Axes>"
      ]
     },
     "metadata": {
      "needs_background": "light"
     },
     "output_type": "display_data"
    }
   ],
   "source": [
    "def mem_usage(x): \n",
    "    return x.memory_usage().sum()\n",
    "\n",
    "df.map_partitions(mem_usage).compute().plot(kind='bar')"
   ]
  },
  {
   "cell_type": "code",
   "execution_count": 5,
   "id": "current-happening",
   "metadata": {},
   "outputs": [],
   "source": [
    "##Not using k_alt, assuming 5 digit codes are leading zero\n",
    "df['group']= 'Animal & Animal Products'\n",
    "df['group']=df['group'].mask(df['k']>=60000, 'Vegetable Products')\n",
    "df['group']=df['group'].mask(df['k']>=160000, 'Foodstuffs')\n",
    "df['group']=df['group'].mask(df['k']>=250000, 'Mineral Products')\n",
    "df['group']=df['group'].mask(df['k']>=280000, 'Chemicals & Allied Industries')\n",
    "df['group']=df['group'].mask(df['k']>=390000, 'Plastics/Rubbers')\n",
    "df['group']=df['group'].mask(df['k']>=410000, 'Raw Hides, Skins, Leather, & Furs')\n",
    "df['group']=df['group'].mask(df['k']>=440000, 'Wood & Wood Products')\n",
    "df['group']=df['group'].mask(df['k']>=500000, 'Textiles')\n",
    "df['group']=df['group'].mask(df['k']>=640000, 'Footwear/Headgear')\n",
    "df['group']=df['group'].mask(df['k']>=680000, 'Stone/Glass')\n",
    "df['group']=df['group'].mask(df['k']>=720000, 'Metals')\n",
    "df['group']=df['group'].mask(df['k']>=840000, 'Machinery')\n",
    "df['group']=df['group'].mask(df['k']>=860000, 'Transportation')\n",
    "df['group']=df['group'].mask(df['k']>=900000, 'Miscellaneous')"
   ]
  },
  {
   "cell_type": "code",
   "execution_count": 6,
   "id": "rising-consistency",
   "metadata": {
    "collapsed": true
   },
   "outputs": [
    {
     "data": {
      "text/html": [
       "<div>\n",
       "<style scoped>\n",
       "    .dataframe tbody tr th:only-of-type {\n",
       "        vertical-align: middle;\n",
       "    }\n",
       "\n",
       "    .dataframe tbody tr th {\n",
       "        vertical-align: top;\n",
       "    }\n",
       "\n",
       "    .dataframe thead th {\n",
       "        text-align: right;\n",
       "    }\n",
       "</style>\n",
       "<table border=\"1\" class=\"dataframe\">\n",
       "  <thead>\n",
       "    <tr style=\"text-align: right;\">\n",
       "      <th></th>\n",
       "      <th>t</th>\n",
       "      <th>i</th>\n",
       "      <th>j</th>\n",
       "      <th>k</th>\n",
       "      <th>v</th>\n",
       "      <th>q</th>\n",
       "      <th>group</th>\n",
       "    </tr>\n",
       "  </thead>\n",
       "  <tbody>\n",
       "    <tr>\n",
       "      <th>0</th>\n",
       "      <td>2012</td>\n",
       "      <td>4</td>\n",
       "      <td>8</td>\n",
       "      <td>610469</td>\n",
       "      <td>2.734000</td>\n",
       "      <td>0.044</td>\n",
       "      <td>Textiles</td>\n",
       "    </tr>\n",
       "    <tr>\n",
       "      <th>1</th>\n",
       "      <td>2012</td>\n",
       "      <td>4</td>\n",
       "      <td>12</td>\n",
       "      <td>91099</td>\n",
       "      <td>1.185000</td>\n",
       "      <td>1.200</td>\n",
       "      <td>Vegetable Products</td>\n",
       "    </tr>\n",
       "    <tr>\n",
       "      <th>2</th>\n",
       "      <td>2012</td>\n",
       "      <td>4</td>\n",
       "      <td>32</td>\n",
       "      <td>392630</td>\n",
       "      <td>1.274453</td>\n",
       "      <td>0.123</td>\n",
       "      <td>Plastics/Rubbers</td>\n",
       "    </tr>\n",
       "    <tr>\n",
       "      <th>3</th>\n",
       "      <td>2012</td>\n",
       "      <td>4</td>\n",
       "      <td>32</td>\n",
       "      <td>730729</td>\n",
       "      <td>2.018000</td>\n",
       "      <td>0.100</td>\n",
       "      <td>Metals</td>\n",
       "    </tr>\n",
       "    <tr>\n",
       "      <th>4</th>\n",
       "      <td>2012</td>\n",
       "      <td>4</td>\n",
       "      <td>32</td>\n",
       "      <td>853400</td>\n",
       "      <td>5.530000</td>\n",
       "      <td>0.028</td>\n",
       "      <td>Machinery</td>\n",
       "    </tr>\n",
       "    <tr>\n",
       "      <th>5</th>\n",
       "      <td>2012</td>\n",
       "      <td>4</td>\n",
       "      <td>32</td>\n",
       "      <td>854140</td>\n",
       "      <td>1.168000</td>\n",
       "      <td>0.069</td>\n",
       "      <td>Machinery</td>\n",
       "    </tr>\n",
       "    <tr>\n",
       "      <th>6</th>\n",
       "      <td>2012</td>\n",
       "      <td>4</td>\n",
       "      <td>36</td>\n",
       "      <td>40310</td>\n",
       "      <td>12.526542</td>\n",
       "      <td>3.492</td>\n",
       "      <td>Animal &amp; Animal Products</td>\n",
       "    </tr>\n",
       "    <tr>\n",
       "      <th>7</th>\n",
       "      <td>2012</td>\n",
       "      <td>4</td>\n",
       "      <td>36</td>\n",
       "      <td>80212</td>\n",
       "      <td>10.126136</td>\n",
       "      <td>4.120</td>\n",
       "      <td>Vegetable Products</td>\n",
       "    </tr>\n",
       "    <tr>\n",
       "      <th>8</th>\n",
       "      <td>2012</td>\n",
       "      <td>4</td>\n",
       "      <td>36</td>\n",
       "      <td>80620</td>\n",
       "      <td>24.379120</td>\n",
       "      <td>34.157</td>\n",
       "      <td>Vegetable Products</td>\n",
       "    </tr>\n",
       "    <tr>\n",
       "      <th>9</th>\n",
       "      <td>2012</td>\n",
       "      <td>4</td>\n",
       "      <td>36</td>\n",
       "      <td>81310</td>\n",
       "      <td>13.357418</td>\n",
       "      <td>6.030</td>\n",
       "      <td>Vegetable Products</td>\n",
       "    </tr>\n",
       "    <tr>\n",
       "      <th>10</th>\n",
       "      <td>2012</td>\n",
       "      <td>4</td>\n",
       "      <td>36</td>\n",
       "      <td>121299</td>\n",
       "      <td>1.344202</td>\n",
       "      <td>0.469</td>\n",
       "      <td>Vegetable Products</td>\n",
       "    </tr>\n",
       "    <tr>\n",
       "      <th>11</th>\n",
       "      <td>2012</td>\n",
       "      <td>4</td>\n",
       "      <td>36</td>\n",
       "      <td>170490</td>\n",
       "      <td>1.228935</td>\n",
       "      <td>0.530</td>\n",
       "      <td>Foodstuffs</td>\n",
       "    </tr>\n",
       "    <tr>\n",
       "      <th>12</th>\n",
       "      <td>2012</td>\n",
       "      <td>4</td>\n",
       "      <td>36</td>\n",
       "      <td>200819</td>\n",
       "      <td>1.410328</td>\n",
       "      <td>0.500</td>\n",
       "      <td>Foodstuffs</td>\n",
       "    </tr>\n",
       "    <tr>\n",
       "      <th>13</th>\n",
       "      <td>2012</td>\n",
       "      <td>4</td>\n",
       "      <td>36</td>\n",
       "      <td>401693</td>\n",
       "      <td>1.356000</td>\n",
       "      <td>0.019</td>\n",
       "      <td>Plastics/Rubbers</td>\n",
       "    </tr>\n",
       "    <tr>\n",
       "      <th>14</th>\n",
       "      <td>2012</td>\n",
       "      <td>4</td>\n",
       "      <td>36</td>\n",
       "      <td>570110</td>\n",
       "      <td>163.844000</td>\n",
       "      <td>2.131</td>\n",
       "      <td>Textiles</td>\n",
       "    </tr>\n",
       "    <tr>\n",
       "      <th>15</th>\n",
       "      <td>2012</td>\n",
       "      <td>4</td>\n",
       "      <td>36</td>\n",
       "      <td>570210</td>\n",
       "      <td>5.977000</td>\n",
       "      <td>0.026</td>\n",
       "      <td>Textiles</td>\n",
       "    </tr>\n",
       "    <tr>\n",
       "      <th>16</th>\n",
       "      <td>2012</td>\n",
       "      <td>4</td>\n",
       "      <td>36</td>\n",
       "      <td>630520</td>\n",
       "      <td>4.493000</td>\n",
       "      <td>0.015</td>\n",
       "      <td>Textiles</td>\n",
       "    </tr>\n",
       "    <tr>\n",
       "      <th>17</th>\n",
       "      <td>2012</td>\n",
       "      <td>4</td>\n",
       "      <td>36</td>\n",
       "      <td>730799</td>\n",
       "      <td>1.977116</td>\n",
       "      <td>0.349</td>\n",
       "      <td>Metals</td>\n",
       "    </tr>\n",
       "    <tr>\n",
       "      <th>18</th>\n",
       "      <td>2012</td>\n",
       "      <td>4</td>\n",
       "      <td>36</td>\n",
       "      <td>731100</td>\n",
       "      <td>1.366318</td>\n",
       "      <td>0.377</td>\n",
       "      <td>Metals</td>\n",
       "    </tr>\n",
       "    <tr>\n",
       "      <th>19</th>\n",
       "      <td>2012</td>\n",
       "      <td>4</td>\n",
       "      <td>36</td>\n",
       "      <td>820559</td>\n",
       "      <td>2.465269</td>\n",
       "      <td>0.335</td>\n",
       "      <td>Metals</td>\n",
       "    </tr>\n",
       "    <tr>\n",
       "      <th>20</th>\n",
       "      <td>2012</td>\n",
       "      <td>4</td>\n",
       "      <td>36</td>\n",
       "      <td>820830</td>\n",
       "      <td>2.826000</td>\n",
       "      <td>0.018</td>\n",
       "      <td>Metals</td>\n",
       "    </tr>\n",
       "    <tr>\n",
       "      <th>21</th>\n",
       "      <td>2012</td>\n",
       "      <td>4</td>\n",
       "      <td>36</td>\n",
       "      <td>830249</td>\n",
       "      <td>3.401000</td>\n",
       "      <td>0.001</td>\n",
       "      <td>Metals</td>\n",
       "    </tr>\n",
       "    <tr>\n",
       "      <th>22</th>\n",
       "      <td>2012</td>\n",
       "      <td>4</td>\n",
       "      <td>36</td>\n",
       "      <td>841121</td>\n",
       "      <td>1417.188000</td>\n",
       "      <td>1.727</td>\n",
       "      <td>Machinery</td>\n",
       "    </tr>\n",
       "    <tr>\n",
       "      <th>23</th>\n",
       "      <td>2012</td>\n",
       "      <td>4</td>\n",
       "      <td>36</td>\n",
       "      <td>847150</td>\n",
       "      <td>1.977000</td>\n",
       "      <td>0.017</td>\n",
       "      <td>Machinery</td>\n",
       "    </tr>\n",
       "    <tr>\n",
       "      <th>24</th>\n",
       "      <td>2012</td>\n",
       "      <td>4</td>\n",
       "      <td>36</td>\n",
       "      <td>847330</td>\n",
       "      <td>1.175000</td>\n",
       "      <td>0.005</td>\n",
       "      <td>Machinery</td>\n",
       "    </tr>\n",
       "    <tr>\n",
       "      <th>25</th>\n",
       "      <td>2012</td>\n",
       "      <td>4</td>\n",
       "      <td>36</td>\n",
       "      <td>848310</td>\n",
       "      <td>1.514000</td>\n",
       "      <td>0.025</td>\n",
       "      <td>Machinery</td>\n",
       "    </tr>\n",
       "    <tr>\n",
       "      <th>26</th>\n",
       "      <td>2012</td>\n",
       "      <td>4</td>\n",
       "      <td>36</td>\n",
       "      <td>848390</td>\n",
       "      <td>2.521093</td>\n",
       "      <td>0.124</td>\n",
       "      <td>Machinery</td>\n",
       "    </tr>\n",
       "    <tr>\n",
       "      <th>27</th>\n",
       "      <td>2012</td>\n",
       "      <td>4</td>\n",
       "      <td>36</td>\n",
       "      <td>851762</td>\n",
       "      <td>5.724000</td>\n",
       "      <td>0.030</td>\n",
       "      <td>Machinery</td>\n",
       "    </tr>\n",
       "    <tr>\n",
       "      <th>28</th>\n",
       "      <td>2012</td>\n",
       "      <td>4</td>\n",
       "      <td>36</td>\n",
       "      <td>851890</td>\n",
       "      <td>1.648000</td>\n",
       "      <td>0.002</td>\n",
       "      <td>Machinery</td>\n",
       "    </tr>\n",
       "    <tr>\n",
       "      <th>29</th>\n",
       "      <td>2012</td>\n",
       "      <td>4</td>\n",
       "      <td>36</td>\n",
       "      <td>852349</td>\n",
       "      <td>1.977000</td>\n",
       "      <td>0.017</td>\n",
       "      <td>Machinery</td>\n",
       "    </tr>\n",
       "    <tr>\n",
       "      <th>30</th>\n",
       "      <td>2012</td>\n",
       "      <td>4</td>\n",
       "      <td>36</td>\n",
       "      <td>852550</td>\n",
       "      <td>3.494000</td>\n",
       "      <td>0.033</td>\n",
       "      <td>Machinery</td>\n",
       "    </tr>\n",
       "    <tr>\n",
       "      <th>31</th>\n",
       "      <td>2012</td>\n",
       "      <td>4</td>\n",
       "      <td>36</td>\n",
       "      <td>852691</td>\n",
       "      <td>15.149000</td>\n",
       "      <td>0.012</td>\n",
       "      <td>Machinery</td>\n",
       "    </tr>\n",
       "    <tr>\n",
       "      <th>32</th>\n",
       "      <td>2012</td>\n",
       "      <td>4</td>\n",
       "      <td>36</td>\n",
       "      <td>870893</td>\n",
       "      <td>2.051848</td>\n",
       "      <td>0.180</td>\n",
       "      <td>Transportation</td>\n",
       "    </tr>\n",
       "    <tr>\n",
       "      <th>33</th>\n",
       "      <td>2012</td>\n",
       "      <td>4</td>\n",
       "      <td>36</td>\n",
       "      <td>871499</td>\n",
       "      <td>1.261000</td>\n",
       "      <td>0.011</td>\n",
       "      <td>Transportation</td>\n",
       "    </tr>\n",
       "    <tr>\n",
       "      <th>34</th>\n",
       "      <td>2012</td>\n",
       "      <td>4</td>\n",
       "      <td>36</td>\n",
       "      <td>900691</td>\n",
       "      <td>1.659000</td>\n",
       "      <td>0.002</td>\n",
       "      <td>Miscellaneous</td>\n",
       "    </tr>\n",
       "    <tr>\n",
       "      <th>35</th>\n",
       "      <td>2012</td>\n",
       "      <td>4</td>\n",
       "      <td>36</td>\n",
       "      <td>902139</td>\n",
       "      <td>1.626000</td>\n",
       "      <td>0.001</td>\n",
       "      <td>Miscellaneous</td>\n",
       "    </tr>\n",
       "    <tr>\n",
       "      <th>36</th>\n",
       "      <td>2012</td>\n",
       "      <td>4</td>\n",
       "      <td>36</td>\n",
       "      <td>902190</td>\n",
       "      <td>1.957000</td>\n",
       "      <td>0.002</td>\n",
       "      <td>Miscellaneous</td>\n",
       "    </tr>\n",
       "    <tr>\n",
       "      <th>37</th>\n",
       "      <td>2012</td>\n",
       "      <td>4</td>\n",
       "      <td>36</td>\n",
       "      <td>950631</td>\n",
       "      <td>1.112000</td>\n",
       "      <td>0.005</td>\n",
       "      <td>Miscellaneous</td>\n",
       "    </tr>\n",
       "    <tr>\n",
       "      <th>38</th>\n",
       "      <td>2012</td>\n",
       "      <td>4</td>\n",
       "      <td>40</td>\n",
       "      <td>70999</td>\n",
       "      <td>1.054336</td>\n",
       "      <td>0.095</td>\n",
       "      <td>Vegetable Products</td>\n",
       "    </tr>\n",
       "    <tr>\n",
       "      <th>39</th>\n",
       "      <td>2012</td>\n",
       "      <td>4</td>\n",
       "      <td>40</td>\n",
       "      <td>81090</td>\n",
       "      <td>2.836079</td>\n",
       "      <td>0.349</td>\n",
       "      <td>Vegetable Products</td>\n",
       "    </tr>\n",
       "  </tbody>\n",
       "</table>\n",
       "</div>"
      ],
      "text/plain": [
       "       t  i   j       k            v       q                     group\n",
       "0   2012  4   8  610469     2.734000   0.044                  Textiles\n",
       "1   2012  4  12   91099     1.185000   1.200        Vegetable Products\n",
       "2   2012  4  32  392630     1.274453   0.123          Plastics/Rubbers\n",
       "3   2012  4  32  730729     2.018000   0.100                    Metals\n",
       "4   2012  4  32  853400     5.530000   0.028                 Machinery\n",
       "5   2012  4  32  854140     1.168000   0.069                 Machinery\n",
       "6   2012  4  36   40310    12.526542   3.492  Animal & Animal Products\n",
       "7   2012  4  36   80212    10.126136   4.120        Vegetable Products\n",
       "8   2012  4  36   80620    24.379120  34.157        Vegetable Products\n",
       "9   2012  4  36   81310    13.357418   6.030        Vegetable Products\n",
       "10  2012  4  36  121299     1.344202   0.469        Vegetable Products\n",
       "11  2012  4  36  170490     1.228935   0.530                Foodstuffs\n",
       "12  2012  4  36  200819     1.410328   0.500                Foodstuffs\n",
       "13  2012  4  36  401693     1.356000   0.019          Plastics/Rubbers\n",
       "14  2012  4  36  570110   163.844000   2.131                  Textiles\n",
       "15  2012  4  36  570210     5.977000   0.026                  Textiles\n",
       "16  2012  4  36  630520     4.493000   0.015                  Textiles\n",
       "17  2012  4  36  730799     1.977116   0.349                    Metals\n",
       "18  2012  4  36  731100     1.366318   0.377                    Metals\n",
       "19  2012  4  36  820559     2.465269   0.335                    Metals\n",
       "20  2012  4  36  820830     2.826000   0.018                    Metals\n",
       "21  2012  4  36  830249     3.401000   0.001                    Metals\n",
       "22  2012  4  36  841121  1417.188000   1.727                 Machinery\n",
       "23  2012  4  36  847150     1.977000   0.017                 Machinery\n",
       "24  2012  4  36  847330     1.175000   0.005                 Machinery\n",
       "25  2012  4  36  848310     1.514000   0.025                 Machinery\n",
       "26  2012  4  36  848390     2.521093   0.124                 Machinery\n",
       "27  2012  4  36  851762     5.724000   0.030                 Machinery\n",
       "28  2012  4  36  851890     1.648000   0.002                 Machinery\n",
       "29  2012  4  36  852349     1.977000   0.017                 Machinery\n",
       "30  2012  4  36  852550     3.494000   0.033                 Machinery\n",
       "31  2012  4  36  852691    15.149000   0.012                 Machinery\n",
       "32  2012  4  36  870893     2.051848   0.180            Transportation\n",
       "33  2012  4  36  871499     1.261000   0.011            Transportation\n",
       "34  2012  4  36  900691     1.659000   0.002             Miscellaneous\n",
       "35  2012  4  36  902139     1.626000   0.001             Miscellaneous\n",
       "36  2012  4  36  902190     1.957000   0.002             Miscellaneous\n",
       "37  2012  4  36  950631     1.112000   0.005             Miscellaneous\n",
       "38  2012  4  40   70999     1.054336   0.095        Vegetable Products\n",
       "39  2012  4  40   81090     2.836079   0.349        Vegetable Products"
      ]
     },
     "execution_count": 6,
     "metadata": {},
     "output_type": "execute_result"
    }
   ],
   "source": [
    "df.head(40)"
   ]
  },
  {
   "cell_type": "code",
   "execution_count": 7,
   "id": "scheduled-pendant",
   "metadata": {},
   "outputs": [],
   "source": [
    "##Changed groupby to \"group\" and .count to .sum from noah's code\n",
    "highest_values = df.groupby(\"group\")['v'].sum().nlargest(5).compute() "
   ]
  },
  {
   "cell_type": "code",
   "execution_count": 8,
   "id": "formal-holocaust",
   "metadata": {},
   "outputs": [
    {
     "data": {
      "text/plain": [
       "group\n",
       "Machinery                        2.960275e+10\n",
       "Mineral Products                 1.851935e+10\n",
       "Transportation                   1.245600e+10\n",
       "Chemicals & Allied Industries    1.142082e+10\n",
       "Metals                           8.497413e+09\n",
       "Name: v, dtype: float64"
      ]
     },
     "execution_count": 8,
     "metadata": {},
     "output_type": "execute_result"
    }
   ],
   "source": [
    "highest_values"
   ]
  },
  {
   "cell_type": "markdown",
   "id": "smooth-toner",
   "metadata": {},
   "source": [
    "Disregard all below until next section, just keeping for reference"
   ]
  },
  {
   "cell_type": "markdown",
   "id": "german-honduras",
   "metadata": {},
   "source": [
    "##disregard, just a previous failed attempt\n",
    "df['k_sixdigit']=df['k'].mask(df['k']<100000, df['k']*10)\n",
    "df['k_alt']=df['k']+100000\n",
    "df.head(40)"
   ]
  },
  {
   "cell_type": "markdown",
   "id": "organized-awareness",
   "metadata": {},
   "source": [
    "##disregard\n",
    "df['k'].value_counts().compute()"
   ]
  },
  {
   "cell_type": "markdown",
   "id": "sunset-secondary",
   "metadata": {},
   "source": [
    "##disregard\n",
    "##another fail at categories\n",
    "df['group']= 'Animal & Animal Products'\n",
    "#df.group.loc[df['k_alt']>=160000]='Vegetable Products'\n",
    "df['group']=df['group'].mask(df['k_alt']>=160000, 'Vegetable Products')\n",
    "df['group']=df['group'].mask(df['k_alt']>=260000, 'Foodstuffs')\n",
    "df['group']=df['group'].mask(df['k_alt']>=350000, 'Mineral Products')\n",
    "df['group']=df['group'].mask(df['k_alt']>=380000, 'Chemicals & Allied Industries')\n",
    "df['group']=df['group'].mask(df['k_alt']>=490000, 'Plastics/Rubbers')\n",
    "df['group']=df['group'].mask(df['k_alt']>=510000, 'Raw Hides, Skins, Leather, & Furs')\n",
    "df['group']=df['group'].mask(df['k_alt']>=540000, 'Wood & Wood Products')\n",
    "df['group']=df['group'].mask(df['k_alt']>=600000, 'Textiles')\n",
    "df['group']=df['group'].mask(df['k_alt']>=740000, 'Footwear/Headgear')\n",
    "df['group']=df['group'].mask(df['k_alt']>=780000, 'Stone/Glass')\n",
    "df['group']=df['group'].mask(df['k_alt']>=820000, 'Metals')\n",
    "df['group']=df['group'].mask(df['k_alt']>=940000, 'Machinery')\n",
    "df['group']=df['group'].mask(df['k_alt']>=960000, 'Transportation')\n",
    "df['group']=df['group'].mask(df['k_alt']>=1000000, 'Miscellaneous')"
   ]
  },
  {
   "cell_type": "markdown",
   "id": "global-fancy",
   "metadata": {},
   "source": [
    "product_codes = pd.read_csv('/Users/carri/ACE_592/Homework_3/product_codes_HS12_V202001.csv')\n",
    "product_codes = product_codes.rename(columns={'code':'k'})"
   ]
  },
  {
   "cell_type": "markdown",
   "id": "right-portsmouth",
   "metadata": {},
   "source": [
    "df_wdes = df.merge(product_codes)"
   ]
  },
  {
   "cell_type": "markdown",
   "id": "chief-sunday",
   "metadata": {},
   "source": [
    "countries = pd.read_csv(\"/Users/carri/ACE_592/Homework_3/country_codes_V202001.csv\",encoding = \"ISO-8859-1\")\n",
    "countries = countries.rename(columns={\"country_code\":\"i\",\"country_name_full\":\"name_i\"})\n",
    "df_wdes = df_wdes.merge(countries[['i','name_i']])\n",
    "\n",
    "countries = pd.read_csv(\"/Users/carri/ACE_592/Homework_3/country_codes_V202001.csv\",encoding = \"ISO-8859-1\")\n",
    "countries = countries.rename(columns={\"country_code\":\"j\",\"country_name_full\":\"name_j\"})\n",
    "df_wdes = df_wdes.merge(countries[['j','name_j']])"
   ]
  },
  {
   "cell_type": "markdown",
   "id": "possible-patent",
   "metadata": {},
   "source": [
    "Largest_values = df_wdes.groupby(\"description\")['v'].count().nlargest(5).compute()"
   ]
  },
  {
   "cell_type": "markdown",
   "id": "median-breathing",
   "metadata": {},
   "source": [
    "Largest_values1 = df_wdes.groupby(\"description\")['q'].count().nlargest(5).compute()"
   ]
  },
  {
   "cell_type": "markdown",
   "id": "impressive-german",
   "metadata": {},
   "source": [
    "Largest_values"
   ]
  },
  {
   "cell_type": "markdown",
   "id": "alternate-treasure",
   "metadata": {},
   "source": [
    "Largest_values1"
   ]
  },
  {
   "cell_type": "markdown",
   "id": "german-witness",
   "metadata": {},
   "source": [
    "# Question 3"
   ]
  },
  {
   "cell_type": "markdown",
   "id": "balanced-breath",
   "metadata": {},
   "source": [
    "### a) Top 10 exports by value for Brazil"
   ]
  },
  {
   "cell_type": "markdown",
   "id": "resistant-commission",
   "metadata": {},
   "source": [
    "Following 2 cells are failed attempts to find just brazil"
   ]
  },
  {
   "cell_type": "markdown",
   "id": "sharing-olympus",
   "metadata": {},
   "source": [
    "df = dd.read_csv('/Users/carri/ACE_592/Homework_3/BACI*.csv')\n",
    "df=df.set_index('t',sorted=True)\n",
    "df12=df.loc[2012]"
   ]
  },
  {
   "cell_type": "markdown",
   "id": "occupational-planet",
   "metadata": {},
   "source": [
    "#df12=df12.loc[df12['i']=='76']\n",
    "#df['group']=df['group'].mask(df['k']>=60000, 'Vegetable Products')\n",
    "df12=df12.mask(df12['i']=='76', df12)"
   ]
  },
  {
   "cell_type": "code",
   "execution_count": 67,
   "id": "weighted-senior",
   "metadata": {},
   "outputs": [],
   "source": [
    "##Looks for only rows where Brazil is exporter\n",
    "df12 = dd.read_csv('/Users/carri/ACE_592/Homework_3/BACI_HS12_Y2012_V202001.csv')\n",
    "df12_brazil = df12.loc[df12['i']==76]"
   ]
  },
  {
   "cell_type": "code",
   "execution_count": 69,
   "id": "liable-anderson",
   "metadata": {
    "collapsed": true
   },
   "outputs": [
    {
     "data": {
      "text/html": [
       "<div>\n",
       "<style scoped>\n",
       "    .dataframe tbody tr th:only-of-type {\n",
       "        vertical-align: middle;\n",
       "    }\n",
       "\n",
       "    .dataframe tbody tr th {\n",
       "        vertical-align: top;\n",
       "    }\n",
       "\n",
       "    .dataframe thead th {\n",
       "        text-align: right;\n",
       "    }\n",
       "</style>\n",
       "<table border=\"1\" class=\"dataframe\">\n",
       "  <thead>\n",
       "    <tr style=\"text-align: right;\">\n",
       "      <th></th>\n",
       "      <th>t</th>\n",
       "      <th>i</th>\n",
       "      <th>j</th>\n",
       "      <th>k</th>\n",
       "      <th>v</th>\n",
       "      <th>q</th>\n",
       "    </tr>\n",
       "  </thead>\n",
       "  <tbody>\n",
       "    <tr>\n",
       "      <th>0</th>\n",
       "      <td>2012</td>\n",
       "      <td>4</td>\n",
       "      <td>8</td>\n",
       "      <td>610469</td>\n",
       "      <td>2.734000</td>\n",
       "      <td>0.044</td>\n",
       "    </tr>\n",
       "    <tr>\n",
       "      <th>1</th>\n",
       "      <td>2012</td>\n",
       "      <td>4</td>\n",
       "      <td>12</td>\n",
       "      <td>91099</td>\n",
       "      <td>1.185000</td>\n",
       "      <td>1.200</td>\n",
       "    </tr>\n",
       "    <tr>\n",
       "      <th>2</th>\n",
       "      <td>2012</td>\n",
       "      <td>4</td>\n",
       "      <td>32</td>\n",
       "      <td>392630</td>\n",
       "      <td>1.274453</td>\n",
       "      <td>0.123</td>\n",
       "    </tr>\n",
       "    <tr>\n",
       "      <th>3</th>\n",
       "      <td>2012</td>\n",
       "      <td>4</td>\n",
       "      <td>32</td>\n",
       "      <td>730729</td>\n",
       "      <td>2.018000</td>\n",
       "      <td>0.100</td>\n",
       "    </tr>\n",
       "    <tr>\n",
       "      <th>4</th>\n",
       "      <td>2012</td>\n",
       "      <td>4</td>\n",
       "      <td>32</td>\n",
       "      <td>853400</td>\n",
       "      <td>5.530000</td>\n",
       "      <td>0.028</td>\n",
       "    </tr>\n",
       "    <tr>\n",
       "      <th>...</th>\n",
       "      <td>...</td>\n",
       "      <td>...</td>\n",
       "      <td>...</td>\n",
       "      <td>...</td>\n",
       "      <td>...</td>\n",
       "      <td>...</td>\n",
       "    </tr>\n",
       "    <tr>\n",
       "      <th>1351398</th>\n",
       "      <td>2012</td>\n",
       "      <td>894</td>\n",
       "      <td>854</td>\n",
       "      <td>841459</td>\n",
       "      <td>24.335000</td>\n",
       "      <td>1.000</td>\n",
       "    </tr>\n",
       "    <tr>\n",
       "      <th>1351399</th>\n",
       "      <td>2012</td>\n",
       "      <td>894</td>\n",
       "      <td>854</td>\n",
       "      <td>843041</td>\n",
       "      <td>770.661000</td>\n",
       "      <td>18.000</td>\n",
       "    </tr>\n",
       "    <tr>\n",
       "      <th>1351400</th>\n",
       "      <td>2012</td>\n",
       "      <td>894</td>\n",
       "      <td>854</td>\n",
       "      <td>846799</td>\n",
       "      <td>29.269000</td>\n",
       "      <td>0.343</td>\n",
       "    </tr>\n",
       "    <tr>\n",
       "      <th>1351401</th>\n",
       "      <td>2012</td>\n",
       "      <td>894</td>\n",
       "      <td>854</td>\n",
       "      <td>848140</td>\n",
       "      <td>10.207000</td>\n",
       "      <td>1.341</td>\n",
       "    </tr>\n",
       "    <tr>\n",
       "      <th>1351402</th>\n",
       "      <td>2012</td>\n",
       "      <td>894</td>\n",
       "      <td>858</td>\n",
       "      <td>240110</td>\n",
       "      <td>78.305173</td>\n",
       "      <td>17.325</td>\n",
       "    </tr>\n",
       "  </tbody>\n",
       "</table>\n",
       "<p>6936991 rows × 6 columns</p>\n",
       "</div>"
      ],
      "text/plain": [
       "            t    i    j       k           v       q\n",
       "0        2012    4    8  610469    2.734000   0.044\n",
       "1        2012    4   12   91099    1.185000   1.200\n",
       "2        2012    4   32  392630    1.274453   0.123\n",
       "3        2012    4   32  730729    2.018000   0.100\n",
       "4        2012    4   32  853400    5.530000   0.028\n",
       "...       ...  ...  ...     ...         ...     ...\n",
       "1351398  2012  894  854  841459   24.335000   1.000\n",
       "1351399  2012  894  854  843041  770.661000  18.000\n",
       "1351400  2012  894  854  846799   29.269000   0.343\n",
       "1351401  2012  894  854  848140   10.207000   1.341\n",
       "1351402  2012  894  858  240110   78.305173  17.325\n",
       "\n",
       "[6936991 rows x 6 columns]"
      ]
     },
     "execution_count": 69,
     "metadata": {},
     "output_type": "execute_result"
    }
   ],
   "source": [
    "df12.compute()"
   ]
  },
  {
   "cell_type": "code",
   "execution_count": 72,
   "id": "north-organ",
   "metadata": {
    "collapsed": true
   },
   "outputs": [
    {
     "data": {
      "text/html": [
       "<div>\n",
       "<style scoped>\n",
       "    .dataframe tbody tr th:only-of-type {\n",
       "        vertical-align: middle;\n",
       "    }\n",
       "\n",
       "    .dataframe tbody tr th {\n",
       "        vertical-align: top;\n",
       "    }\n",
       "\n",
       "    .dataframe thead th {\n",
       "        text-align: right;\n",
       "    }\n",
       "</style>\n",
       "<table border=\"1\" class=\"dataframe\">\n",
       "  <thead>\n",
       "    <tr style=\"text-align: right;\">\n",
       "      <th></th>\n",
       "      <th>t</th>\n",
       "      <th>i</th>\n",
       "      <th>j</th>\n",
       "      <th>k</th>\n",
       "      <th>v</th>\n",
       "      <th>q</th>\n",
       "    </tr>\n",
       "  </thead>\n",
       "  <tbody>\n",
       "    <tr>\n",
       "      <th>540595</th>\n",
       "      <td>2012</td>\n",
       "      <td>76</td>\n",
       "      <td>4</td>\n",
       "      <td>20230</td>\n",
       "      <td>517.156000</td>\n",
       "      <td>63.936000</td>\n",
       "    </tr>\n",
       "    <tr>\n",
       "      <th>540596</th>\n",
       "      <td>2012</td>\n",
       "      <td>76</td>\n",
       "      <td>4</td>\n",
       "      <td>20712</td>\n",
       "      <td>6394.102000</td>\n",
       "      <td>3880.377000</td>\n",
       "    </tr>\n",
       "    <tr>\n",
       "      <th>540597</th>\n",
       "      <td>2012</td>\n",
       "      <td>76</td>\n",
       "      <td>4</td>\n",
       "      <td>20714</td>\n",
       "      <td>682.216000</td>\n",
       "      <td>407.820000</td>\n",
       "    </tr>\n",
       "    <tr>\n",
       "      <th>540598</th>\n",
       "      <td>2012</td>\n",
       "      <td>76</td>\n",
       "      <td>4</td>\n",
       "      <td>151219</td>\n",
       "      <td>24.087000</td>\n",
       "      <td>5.760000</td>\n",
       "    </tr>\n",
       "    <tr>\n",
       "      <th>540599</th>\n",
       "      <td>2012</td>\n",
       "      <td>76</td>\n",
       "      <td>4</td>\n",
       "      <td>160100</td>\n",
       "      <td>174.125000</td>\n",
       "      <td>119.226000</td>\n",
       "    </tr>\n",
       "    <tr>\n",
       "      <th>...</th>\n",
       "      <td>...</td>\n",
       "      <td>...</td>\n",
       "      <td>...</td>\n",
       "      <td>...</td>\n",
       "      <td>...</td>\n",
       "      <td>...</td>\n",
       "    </tr>\n",
       "    <tr>\n",
       "      <th>628761</th>\n",
       "      <td>2012</td>\n",
       "      <td>76</td>\n",
       "      <td>894</td>\n",
       "      <td>940340</td>\n",
       "      <td>384.960670</td>\n",
       "      <td>202.885667</td>\n",
       "    </tr>\n",
       "    <tr>\n",
       "      <th>628762</th>\n",
       "      <td>2012</td>\n",
       "      <td>76</td>\n",
       "      <td>894</td>\n",
       "      <td>940350</td>\n",
       "      <td>111.593102</td>\n",
       "      <td>82.917865</td>\n",
       "    </tr>\n",
       "    <tr>\n",
       "      <th>628763</th>\n",
       "      <td>2012</td>\n",
       "      <td>76</td>\n",
       "      <td>894</td>\n",
       "      <td>940360</td>\n",
       "      <td>295.975989</td>\n",
       "      <td>152.188502</td>\n",
       "    </tr>\n",
       "    <tr>\n",
       "      <th>628764</th>\n",
       "      <td>2012</td>\n",
       "      <td>76</td>\n",
       "      <td>894</td>\n",
       "      <td>960500</td>\n",
       "      <td>5.571000</td>\n",
       "      <td>0.412000</td>\n",
       "    </tr>\n",
       "    <tr>\n",
       "      <th>628765</th>\n",
       "      <td>2012</td>\n",
       "      <td>76</td>\n",
       "      <td>894</td>\n",
       "      <td>961900</td>\n",
       "      <td>28.806503</td>\n",
       "      <td>2.459000</td>\n",
       "    </tr>\n",
       "  </tbody>\n",
       "</table>\n",
       "<p>88171 rows × 6 columns</p>\n",
       "</div>"
      ],
      "text/plain": [
       "           t   i    j       k            v            q\n",
       "540595  2012  76    4   20230   517.156000    63.936000\n",
       "540596  2012  76    4   20712  6394.102000  3880.377000\n",
       "540597  2012  76    4   20714   682.216000   407.820000\n",
       "540598  2012  76    4  151219    24.087000     5.760000\n",
       "540599  2012  76    4  160100   174.125000   119.226000\n",
       "...      ...  ..  ...     ...          ...          ...\n",
       "628761  2012  76  894  940340   384.960670   202.885667\n",
       "628762  2012  76  894  940350   111.593102    82.917865\n",
       "628763  2012  76  894  940360   295.975989   152.188502\n",
       "628764  2012  76  894  960500     5.571000     0.412000\n",
       "628765  2012  76  894  961900    28.806503     2.459000\n",
       "\n",
       "[88171 rows x 6 columns]"
      ]
     },
     "execution_count": 72,
     "metadata": {},
     "output_type": "execute_result"
    }
   ],
   "source": [
    "df12_brazil.compute()"
   ]
  },
  {
   "cell_type": "code",
   "execution_count": 77,
   "id": "manufactured-magazine",
   "metadata": {},
   "outputs": [],
   "source": [
    "productvalues=df12_brazil.groupby('k')['v'].sum().compute()"
   ]
  },
  {
   "cell_type": "code",
   "execution_count": 81,
   "id": "appointed-wallet",
   "metadata": {},
   "outputs": [
    {
     "data": {
      "text/plain": [
       "k\n",
       "260111    2.497592e+07\n",
       "270900    2.086092e+07\n",
       "120190    1.741984e+07\n",
       "170114    9.870907e+06\n",
       "260112    7.571141e+06\n",
       "230400    6.797181e+06\n",
       "90111     6.025826e+06\n",
       "271000    5.525909e+06\n",
       "100590    5.187145e+06\n",
       "470329    4.651875e+06\n",
       "Name: v, dtype: float64"
      ]
     },
     "execution_count": 81,
     "metadata": {},
     "output_type": "execute_result"
    }
   ],
   "source": [
    "##This will tell you top 10 exports by value for INDIVIDUAL PRODUCTS\n",
    "productvalues=productvalues.sort_values(ascending=False)\n",
    "productvalues.head(10)"
   ]
  },
  {
   "cell_type": "code",
   "execution_count": 82,
   "id": "certain-dating",
   "metadata": {},
   "outputs": [],
   "source": [
    "df12_brazil['group']= 'Animal & Animal Products'\n",
    "df12_brazil['group']=df12_brazil['group'].mask(df12_brazil['k']>=60000, 'Vegetable Products')\n",
    "df12_brazil['group']=df12_brazil['group'].mask(df12_brazil['k']>=160000, 'Foodstuffs')\n",
    "df12_brazil['group']=df12_brazil['group'].mask(df12_brazil['k']>=250000, 'Mineral Products')\n",
    "df12_brazil['group']=df12_brazil['group'].mask(df12_brazil['k']>=280000, 'Chemicals & Allied Industries')\n",
    "df12_brazil['group']=df12_brazil['group'].mask(df12_brazil['k']>=390000, 'Plastics/Rubbers')\n",
    "df12_brazil['group']=df12_brazil['group'].mask(df12_brazil['k']>=410000, 'Raw Hides, Skins, Leather, & Furs')\n",
    "df12_brazil['group']=df12_brazil['group'].mask(df12_brazil['k']>=440000, 'Wood & Wood Products')\n",
    "df12_brazil['group']=df12_brazil['group'].mask(df12_brazil['k']>=500000, 'Textiles')\n",
    "df12_brazil['group']=df12_brazil['group'].mask(df12_brazil['k']>=640000, 'Footwear/Headgear')\n",
    "df12_brazil['group']=df12_brazil['group'].mask(df12_brazil['k']>=680000, 'Stone/Glass')\n",
    "df12_brazil['group']=df12_brazil['group'].mask(df12_brazil['k']>=720000, 'Metals')\n",
    "df12_brazil['group']=df12_brazil['group'].mask(df12_brazil['k']>=840000, 'Machinery')\n",
    "df12_brazil['group']=df12_brazil['group'].mask(df12_brazil['k']>=860000, 'Transportation')\n",
    "df12_brazil['group']=df12_brazil['group'].mask(df12_brazil['k']>=900000, 'Miscellaneous')"
   ]
  },
  {
   "cell_type": "code",
   "execution_count": 85,
   "id": "eastern-paintball",
   "metadata": {},
   "outputs": [
    {
     "data": {
      "text/plain": [
       "group\n",
       "Mineral Products                 6.260166e+07\n",
       "Vegetable Products               3.447583e+07\n",
       "Foodstuffs                       3.357553e+07\n",
       "Transportation                   1.997924e+07\n",
       "Machinery                        1.925287e+07\n",
       "Metals                           1.853616e+07\n",
       "Animal & Animal Products         1.553371e+07\n",
       "Chemicals & Allied Industries    1.279888e+07\n",
       "Wood & Wood Products             9.373039e+06\n",
       "Plastics/Rubbers                 6.299730e+06\n",
       "Name: v, dtype: float64"
      ]
     },
     "execution_count": 85,
     "metadata": {},
     "output_type": "execute_result"
    }
   ],
   "source": [
    "##This will tell you top 10 exports by value for SECTORS\n",
    "productvalues=df12_brazil.groupby('group')['v'].sum().compute()\n",
    "productvalues=productvalues.sort_values(ascending=False)\n",
    "productvalues.head(10)"
   ]
  },
  {
   "cell_type": "markdown",
   "id": "russian-speaker",
   "metadata": {},
   "source": [
    "### b) Top 10 goods with highest trade volume in entire dataset in terms of both VALUE and QUANTITY"
   ]
  },
  {
   "cell_type": "markdown",
   "id": "adult-dallas",
   "metadata": {},
   "source": [
    "##### i) Value"
   ]
  },
  {
   "cell_type": "code",
   "execution_count": 4,
   "id": "considerable-forum",
   "metadata": {},
   "outputs": [],
   "source": [
    "df = dd.read_csv('/Users/carri/ACE_592/Homework_3/BACI*.csv')"
   ]
  },
  {
   "cell_type": "code",
   "execution_count": 5,
   "id": "organic-childhood",
   "metadata": {},
   "outputs": [],
   "source": [
    "df['group']= 'Animal & Animal Products'\n",
    "df['group']=df['group'].mask(df['k']>=60000, 'Vegetable Products')\n",
    "df['group']=df['group'].mask(df['k']>=160000, 'Foodstuffs')\n",
    "df['group']=df['group'].mask(df['k']>=250000, 'Mineral Products')\n",
    "df['group']=df['group'].mask(df['k']>=280000, 'Chemicals & Allied Industries')\n",
    "df['group']=df['group'].mask(df['k']>=390000, 'Plastics/Rubbers')\n",
    "df['group']=df['group'].mask(df['k']>=410000, 'Raw Hides, Skins, Leather, & Furs')\n",
    "df['group']=df['group'].mask(df['k']>=440000, 'Wood & Wood Products')\n",
    "df['group']=df['group'].mask(df['k']>=500000, 'Textiles')\n",
    "df['group']=df['group'].mask(df['k']>=640000, 'Footwear/Headgear')\n",
    "df['group']=df['group'].mask(df['k']>=680000, 'Stone/Glass')\n",
    "df['group']=df['group'].mask(df['k']>=720000, 'Metals')\n",
    "df['group']=df['group'].mask(df['k']>=840000, 'Machinery')\n",
    "df['group']=df['group'].mask(df['k']>=860000, 'Transportation')\n",
    "df['group']=df['group'].mask(df['k']>=900000, 'Miscellaneous')"
   ]
  },
  {
   "cell_type": "code",
   "execution_count": 6,
   "id": "controlled-ministry",
   "metadata": {},
   "outputs": [
    {
     "data": {
      "text/plain": [
       "k\n",
       "270900    7.912294e+09\n",
       "271000    5.183260e+09\n",
       "710812    2.163116e+09\n",
       "300490    1.922855e+09\n",
       "870323    1.916191e+09\n",
       "851712    1.762793e+09\n",
       "880240    1.045804e+09\n",
       "847130    1.008797e+09\n",
       "854239    9.712165e+08\n",
       "271121    9.706400e+08\n",
       "Name: v, dtype: float64"
      ]
     },
     "execution_count": 6,
     "metadata": {},
     "output_type": "execute_result"
    }
   ],
   "source": [
    "##Full dataframe top PRODUCTS by VALUE \n",
    "productvalues=df.groupby('k')['v'].sum().compute()\n",
    "productvalues=productvalues.sort_values(ascending=False)\n",
    "productvalues.head(10)"
   ]
  },
  {
   "cell_type": "code",
   "execution_count": 89,
   "id": "voluntary-realtor",
   "metadata": {},
   "outputs": [
    {
     "data": {
      "text/plain": [
       "group\n",
       "Machinery                        2.960275e+10\n",
       "Mineral Products                 1.851935e+10\n",
       "Transportation                   1.245600e+10\n",
       "Chemicals & Allied Industries    1.142082e+10\n",
       "Metals                           8.497413e+09\n",
       "Miscellaneous                    6.913126e+09\n",
       "Stone/Glass                      5.634053e+09\n",
       "Plastics/Rubbers                 5.398827e+09\n",
       "Textiles                         5.113506e+09\n",
       "Vegetable Products               4.066172e+09\n",
       "Name: v, dtype: float64"
      ]
     },
     "execution_count": 89,
     "metadata": {},
     "output_type": "execute_result"
    }
   ],
   "source": [
    "##Full dataframe top SECTORS by VALUE \n",
    "productvalues=df.groupby('group')['v'].sum().compute()\n",
    "productvalues=productvalues.sort_values(ascending=False)\n",
    "productvalues.head(10)"
   ]
  },
  {
   "cell_type": "markdown",
   "id": "liberal-fiction",
   "metadata": {},
   "source": [
    "##### ii) Quantity"
   ]
  },
  {
   "cell_type": "code",
   "execution_count": 7,
   "id": "satellite-lighting",
   "metadata": {},
   "outputs": [
    {
     "data": {
      "text/plain": [
       "k\n",
       "270900    1.495173e+10\n",
       "260111    8.972815e+09\n",
       "271000    8.195312e+09\n",
       "270112    7.089349e+09\n",
       "271111    3.977239e+09\n",
       "220190    3.349428e+09\n",
       "271121    2.557734e+09\n",
       "270119    2.518876e+09\n",
       "251710    1.378689e+09\n",
       "260112    1.144295e+09\n",
       "Name: q, dtype: float64"
      ]
     },
     "execution_count": 7,
     "metadata": {},
     "output_type": "execute_result"
    }
   ],
   "source": [
    "##Full dataframe top PRODUCTS by QUANTITY \n",
    "productvalues=df.groupby('k')['q'].sum().compute()\n",
    "productvalues=productvalues.sort_values(ascending=False)\n",
    "productvalues.head(10)"
   ]
  },
  {
   "cell_type": "code",
   "execution_count": 8,
   "id": "married-waterproof",
   "metadata": {},
   "outputs": [
    {
     "data": {
      "text/plain": [
       "group\n",
       "Mineral Products                 6.063183e+10\n",
       "Vegetable Products               6.723821e+09\n",
       "Foodstuffs                       6.402375e+09\n",
       "Metals                           5.605434e+09\n",
       "Chemicals & Allied Industries    5.479474e+09\n",
       "Wood & Wood Products             4.349994e+09\n",
       "Plastics/Rubbers                 2.037058e+09\n",
       "Machinery                        1.451719e+09\n",
       "Stone/Glass                      1.329269e+09\n",
       "Transportation                   1.274462e+09\n",
       "Name: q, dtype: float64"
      ]
     },
     "execution_count": 8,
     "metadata": {},
     "output_type": "execute_result"
    }
   ],
   "source": [
    "##Full dataframe top SECTORS by QUANTITY \n",
    "productvalues=df.groupby('group')['q'].sum().compute()\n",
    "productvalues=productvalues.sort_values(ascending=False)\n",
    "productvalues.head(10)"
   ]
  },
  {
   "cell_type": "markdown",
   "id": "informal-chart",
   "metadata": {},
   "source": [
    "# Question 4) Gravity Equation"
   ]
  },
  {
   "cell_type": "markdown",
   "id": "forbidden-concern",
   "metadata": {},
   "source": [
    "### a) Calculate distances from other centroids"
   ]
  },
  {
   "cell_type": "code",
   "execution_count": null,
   "id": "varied-regulation",
   "metadata": {},
   "outputs": [],
   "source": [
    "countries='/Users/carri/ACE_592/Homework_3/countries.geojson'\n",
    "country=gp.read_file(countries)"
   ]
  },
  {
   "cell_type": "code",
   "execution_count": null,
   "id": "excellent-marriage",
   "metadata": {},
   "outputs": [],
   "source": [
    "country.loc[country['ADMIN']=='Brazil']"
   ]
  },
  {
   "cell_type": "code",
   "execution_count": null,
   "id": "ongoing-fight",
   "metadata": {},
   "outputs": [],
   "source": [
    "country.plot()"
   ]
  },
  {
   "cell_type": "code",
   "execution_count": null,
   "id": "responsible-stockholm",
   "metadata": {},
   "outputs": [],
   "source": [
    "country=country.to_crs(epsg=4087)"
   ]
  },
  {
   "cell_type": "code",
   "execution_count": null,
   "id": "tough-things",
   "metadata": {},
   "outputs": [],
   "source": [
    "f,a = plt.subplots()\n",
    "country.plot(ax=a)\n",
    "country.centroid.plot(ax=a, color='red', markersize=5)"
   ]
  },
  {
   "cell_type": "code",
   "execution_count": null,
   "id": "personalized-reggae",
   "metadata": {},
   "outputs": [],
   "source": [
    "brazilcent=country.centroid[33]"
   ]
  },
  {
   "cell_type": "code",
   "execution_count": null,
   "id": "hired-editing",
   "metadata": {},
   "outputs": [],
   "source": [
    "country['brazil_dist'] = country.centroid.distance(brazilcent)/1000 # res is in meters, so converting to km\n",
    "country.sort_values(\"brazil_dist\").head()"
   ]
  },
  {
   "cell_type": "code",
   "execution_count": null,
   "id": "important-permit",
   "metadata": {
    "scrolled": true
   },
   "outputs": [],
   "source": [
    "f,a = plt.subplots(figsize=(15,5))\n",
    "country.plot(column=\"brazil_dist\", # The data it uses to assign colors\n",
    "                  ax=a,\\\n",
    "                  legend=True,\\\n",
    "                  legend_kwds={'label': \"Centroid Distance (km)\"});\n",
    "country.centroid[:1].plot(color=\"C3\",ax=a,markersize=10);\n",
    "country.centroid[1:].plot(color=\"w\",ax=a,markersize=5);\n",
    "\n",
    "plt.axis(\"off\");\n",
    "plt.title(\"Country Centroid Distance from Brazil\")\n"
   ]
  },
  {
   "cell_type": "markdown",
   "id": "secondary-journalism",
   "metadata": {},
   "source": [
    "### b) Create scatterplot with centroid distance (x) and export volume (y, both quantity and value from question 3b) in log form "
   ]
  },
  {
   "cell_type": "code",
   "execution_count": null,
   "id": "revolutionary-links",
   "metadata": {},
   "outputs": [],
   "source": []
  },
  {
   "cell_type": "markdown",
   "id": "fixed-birmingham",
   "metadata": {},
   "source": [
    "### c) Correlation exports and distance for both value and quantity, interpret these correlations"
   ]
  },
  {
   "cell_type": "code",
   "execution_count": null,
   "id": "legal-terminology",
   "metadata": {},
   "outputs": [],
   "source": []
  },
  {
   "cell_type": "markdown",
   "id": "aware-induction",
   "metadata": {},
   "source": [
    "### d) from 2b, which sectors are export quantity most related to distance"
   ]
  },
  {
   "cell_type": "markdown",
   "id": "ahead-ultimate",
   "metadata": {},
   "source": [
    "Won't work with dictionary, may need to go back and actually assign item codes (potentially add value to codes to make everything 6 digit)"
   ]
  },
  {
   "cell_type": "code",
   "execution_count": null,
   "id": "different-editor",
   "metadata": {},
   "outputs": [],
   "source": []
  },
  {
   "cell_type": "markdown",
   "id": "colored-burst",
   "metadata": {},
   "source": [
    "# Question 5) Estimation"
   ]
  },
  {
   "cell_type": "code",
   "execution_count": null,
   "id": "faced-minutes",
   "metadata": {},
   "outputs": [],
   "source": []
  },
  {
   "cell_type": "code",
   "execution_count": null,
   "id": "direct-excess",
   "metadata": {},
   "outputs": [],
   "source": []
  },
  {
   "cell_type": "code",
   "execution_count": null,
   "id": "million-adoption",
   "metadata": {},
   "outputs": [],
   "source": []
  },
  {
   "cell_type": "code",
   "execution_count": null,
   "id": "inner-transition",
   "metadata": {},
   "outputs": [],
   "source": []
  },
  {
   "cell_type": "code",
   "execution_count": null,
   "id": "traditional-garlic",
   "metadata": {},
   "outputs": [],
   "source": []
  }
 ],
 "metadata": {
  "kernelspec": {
   "display_name": "Python 3",
   "language": "python",
   "name": "python3"
  },
  "language_info": {
   "codemirror_mode": {
    "name": "ipython",
    "version": 3
   },
   "file_extension": ".py",
   "mimetype": "text/x-python",
   "name": "python",
   "nbconvert_exporter": "python",
   "pygments_lexer": "ipython3",
   "version": "3.8.5"
  }
 },
 "nbformat": 4,
 "nbformat_minor": 5
}
